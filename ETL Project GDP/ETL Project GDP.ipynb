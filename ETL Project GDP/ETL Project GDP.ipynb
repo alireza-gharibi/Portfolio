{
 "cells": [
  {
   "cell_type": "code",
   "execution_count": 1,
   "id": "f4770582",
   "metadata": {},
   "outputs": [],
   "source": [
    "import sqlite3\n",
    "import pandas as pd\n",
    "from bs4 import BeautifulSoup\n",
    "import requests as r\n",
    "from datetime import datetime"
   ]
  },
  {
   "cell_type": "code",
   "execution_count": 4,
   "id": "aa68f1f5",
   "metadata": {},
   "outputs": [],
   "source": [
    "url = 'https://web.archive.org/web/20230902185326/https://en.wikipedia.org/wiki/List_of_countries_by_GDP_%28nominal%29'\n",
    "response = r.get(url) # put r.get(url) here(in first stages) to know (cotinues in next line)\n",
    "# if there is a network error and prevent the function from furthur running\n",
    "soup = BeautifulSoup(response.content, 'lxml')"
   ]
  },
  {
   "cell_type": "code",
   "execution_count": 8,
   "id": "f7e704e8",
   "metadata": {},
   "outputs": [],
   "source": [
    "def table_search(caption):\n",
    "    \"\"\"\n",
    "    finding related 'table' tag in html document for the any 'caption' (part of table caption).\n",
    "    the function takes part of a table caption(title) as a string \n",
    "    and returns the beautiful soup tag object for that table('table tag').\n",
    "    the search is case insensitive. \n",
    "    it searches the beautiful soup object(response object from requeststhen converted to soup object).\n",
    "    \"\"\"\n",
    "    caption_list= soup.find_all('caption') #returns list of table captions\n",
    "    for element in caption_list:  # check the text inside each element of the list (cotinues in next line)\n",
    "        # whether it matches the function argument\n",
    "        if caption.lower() in element.string.lower():  # strings become case insensitive \n",
    "            return element.parent     \n",
    "        # it returns the parent tag('table' tag) for the matching 'caption' tag "
   ]
  },
  {
   "cell_type": "code",
   "execution_count": 223,
   "id": "a5bf991c",
   "metadata": {},
   "outputs": [],
   "source": [
    "def extract(): \n",
    "    \n",
    "    ''' This function extracts the required\n",
    "    information from the website, cleans the data and saves it to a dataframe. The\n",
    "    function returns the dataframe for further processing. '''\n",
    "    country=[]\n",
    "    GDP_USD_millions=[]\n",
    "    \n",
    "    element_list = table_search('gdp').find_all('tr') \n",
    "    # 'i used function table_search() to (cotinues in next line)\n",
    "    # look for the right tag 'table'. there are 7 'table' tags in the page now.\n",
    "    #used 'gdp' as a keyword for the table. it can be any part of table title.\n",
    "    \n",
    "    for element in element_list[3:]: \n",
    "        #first two elements of the list are not informative (cotinues in next line)\n",
    "        #so we start from third element at index=3\n",
    "        row = element.find_all('td') # i used find_all one time in each loop \n",
    "        country.append(row[0].get_text(strip=True))\n",
    "        GDP_USD_millions.append(row[2].string.replace(',','')) #removing ',' from text\n",
    "        \n",
    "    df = pd.DataFrame({\"Country/Territory\":country,\"GDP_USD_millions\":GDP_USD_millions})\n",
    "    # df contain raw data and rows contain '—'. \n",
    "    # in the next lines we delete rows that contain'—'\n",
    "    rows_with_dash=df[ lambda x: x['GDP_USD_millions'] == '—' ] #selecting rows with '—'\n",
    "    index_to_drop=rows_with_dash.index  #index of rows with '—'\n",
    "    return df.drop(index_to_drop).reset_index(drop=True) #dropping rows with '—' and resetting index"
   ]
  },
  {
   "cell_type": "code",
   "execution_count": 224,
   "id": "9c9a88eb",
   "metadata": {},
   "outputs": [],
   "source": [
    "def transform(df):\n",
    "    casted_column = df[\"GDP_USD_millions\"].astype(int)\n",
    "    df.update(round(casted_column/1000,2)) # input column should be the same as df column name for update\n",
    "    df.rename(columns={\"GDP_USD_millions\": \"GDP_USD_billions\"}, inplace=True)\n",
    "    return df"
   ]
  },
  {
   "cell_type": "code",
   "execution_count": 225,
   "id": "f66227ff",
   "metadata": {},
   "outputs": [],
   "source": [
    "def load_to_csv(df, csv_path):\n",
    "    df.to_csv(csv_path)"
   ]
  },
  {
   "cell_type": "code",
   "execution_count": 226,
   "id": "70a5e5f7",
   "metadata": {},
   "outputs": [],
   "source": [
    "def load_to_db(df, sql_connection, table_name):\n",
    "    df.to_sql(table_name, sql_connection, if_exists='replace', index=False)"
   ]
  },
  {
   "cell_type": "code",
   "execution_count": 227,
   "id": "27266cca",
   "metadata": {},
   "outputs": [],
   "source": [
    "def run_query(query_statement, sql_connection):\n",
    "    print(query_statement)\n",
    "    query_output = pd.read_sql(query_statement, sql_connection)\n",
    "    print(query_output)"
   ]
  },
  {
   "cell_type": "code",
   "execution_count": 1,
   "id": "5aac3018",
   "metadata": {},
   "outputs": [],
   "source": [
    "def log_progress(message): \n",
    "    timestamp_format = '%Y-%h-%d-%H:%M:%S' # Year-Monthname-Day-Hour-Minute-Second \n",
    "    now = datetime.now() # get current timestamp \n",
    "    timestamp = now.strftime(timestamp_format) \n",
    "    with open(\"./ETL_GDP_project_log.txt\",\"a\") as f: \n",
    "        f.write(timestamp + ' : ' + message + '\\n')"
   ]
  },
  {
   "cell_type": "code",
   "execution_count": 234,
   "id": "aedc9359",
   "metadata": {},
   "outputs": [
    {
     "name": "stdout",
     "output_type": "stream",
     "text": [
      "SELECT * from Countries_by_GDP WHERE GDP_USD_billions >= 100\n",
      "   Country/Territory  GDP_USD_billions\n",
      "0      United States          26854.60\n",
      "1              China          19373.59\n",
      "2              Japan           4409.74\n",
      "3            Germany           4308.85\n",
      "4              India           3736.88\n",
      "..               ...               ...\n",
      "64             Kenya            118.13\n",
      "65            Angola            117.88\n",
      "66              Oman            104.90\n",
      "67         Guatemala            102.31\n",
      "68          Bulgaria            100.64\n",
      "\n",
      "[69 rows x 2 columns]\n"
     ]
    }
   ],
   "source": [
    "''' Here, i define the required entities(variables) and call the relevant \n",
    "functions in the correct order to complete the project.'''\n",
    "\n",
    "db_name = 'World_Economies.db'\n",
    "table_name = 'Countries_by_GDP'\n",
    "csv_path = './Countries_by_GDP.csv'\n",
    "\n",
    "log_progress('Preliminaries complete. Initiating ETL process')\n",
    "df = extract()\n",
    "log_progress('Data extraction complete. Initiating Transformation process')\n",
    "df = transform(df)\n",
    "log_progress('Data transformation complete. Initiating loading process')\n",
    "load_to_csv(df, csv_path)\n",
    "log_progress('Data saved to CSV file')\n",
    "sql_connection = sqlite3.connect('World_Economies.db')\n",
    "log_progress('SQL Connection initiated.')\n",
    "load_to_db(df, sql_connection, table_name)\n",
    "log_progress('Data loaded to Database as table. Running the query')\n",
    "query_statement = f\"SELECT * from {table_name} WHERE GDP_USD_billions >= 100\"\n",
    "run_query(query_statement, sql_connection)\n",
    "log_progress('Process Complete.')\n",
    "sql_connection.close()"
   ]
  },
  {
   "cell_type": "code",
   "execution_count": null,
   "id": "9d480723",
   "metadata": {},
   "outputs": [],
   "source": []
  },
  {
   "cell_type": "code",
   "execution_count": null,
   "id": "2f6ad8c4",
   "metadata": {},
   "outputs": [],
   "source": []
  }
 ],
 "metadata": {
  "kernelspec": {
   "display_name": "Python 3 (ipykernel)",
   "language": "python",
   "name": "python3"
  },
  "language_info": {
   "codemirror_mode": {
    "name": "ipython",
    "version": 3
   },
   "file_extension": ".py",
   "mimetype": "text/x-python",
   "name": "python",
   "nbconvert_exporter": "python",
   "pygments_lexer": "ipython3",
   "version": "3.9.13"
  }
 },
 "nbformat": 4,
 "nbformat_minor": 5
}
