{
 "cells": [
  {
   "cell_type": "code",
   "execution_count": 1,
   "id": "73b46820",
   "metadata": {},
   "outputs": [],
   "source": [
    "import sqlite3\n",
    "import pandas as pd\n",
    "from bs4 import BeautifulSoup\n",
    "import requests as r\n",
    "from datetime import datetime\n",
    "import numpy as np"
   ]
  },
  {
   "cell_type": "code",
   "execution_count": 3,
   "id": "5f3213ac",
   "metadata": {},
   "outputs": [],
   "source": [
    "# Connecting to the URL...\n",
    "try :\n",
    "    url = 'https://web.archive.org/web/20230908091635 /https://en.wikipedia.org/wiki/List_of_largest_banks'\n",
    "    response = r.get(url) # put r.get(url) here(in first stages) to know if there is a network error and \n",
    "    # (cotinued) prevent the function from furthur running\n",
    "    soup = BeautifulSoup(response.content, 'lxml')\n",
    "except r.exceptions.RequestException :\n",
    "    print(\"The URL cant't be reached!\")\n",
    "    "
   ]
  },
  {
   "cell_type": "code",
   "execution_count": 4,
   "id": "3832e7b0",
   "metadata": {},
   "outputs": [],
   "source": [
    "def extract():\n",
    "    '''\n",
    "    extracting 'top banks by market capitalization' table from the URL\n",
    "    '''\n",
    "    name = []\n",
    "    MC_USD_Billion = [] \n",
    "    \n",
    "    rows_list = soup.find('table').find_all('tr') #rows of table\n",
    "    for list_element in rows_list[1:]: #iterating over each row\n",
    "        row = list_element.find_all('td')\n",
    "        name.append(row[1].get_text(strip=True)) #extracting bank name column\n",
    "        MC_USD_Billion.append(row[2].get_text(strip=True)) #extracting market capitalization column\n",
    "\n",
    "    df = pd.DataFrame({\"Name\":name,\"MC_USD_Billion\":MC_USD_Billion}) #creating dataframe\n",
    "    return df"
   ]
  },
  {
   "cell_type": "code",
   "execution_count": 5,
   "id": "7f92a340",
   "metadata": {},
   "outputs": [],
   "source": [
    "#downloading Exchange rate\n",
    "def exchange_rate():\n",
    "    \n",
    "    '''\n",
    "    the function tries to download a csv file and save it as a dataframe and return the dataframe. \n",
    "    if it fails to downlaod the csv file from the website, it tries to use the existing csv file \n",
    "    which was downloaded previously. if there is no local csv file available either. it returns 'None'\n",
    "    and prints a message that No local 'exchange rate data available!'\n",
    "    '''\n",
    "    \n",
    "    try:\n",
    "        exchange_file_url = 'https://cf-courses-data.s3.us.cloud-object-storage.appdomain.cloud/IBMSkillsNetwork-PY0221EN-Coursera/labs/v2/exchange_rate.csv'\n",
    "        exchange_file = r.get(exchange_file_url)\n",
    "        with open('downloaded_exchange.csv',\"wb\") as d:\n",
    "            d.write(exchange_file.content)\n",
    "        # creating a dataframe from the csv file:\n",
    "        with open('downloaded_exchange.csv','r') as d:\n",
    "            df=pd.read_csv(d)\n",
    "            return df\n",
    "    except r.exceptions.RequestException : \n",
    "        # 'RequestException' includes almost all kinds of request exception\n",
    "        try: \n",
    "            print(\"The exchange rate website can't be reached! \\nTrying to use local exchange rate data...\")\n",
    "            with open('downloaded_exchange.csv','r') as d:\n",
    "                df=pd.read_csv(d)\n",
    "                return df\n",
    "        except :\n",
    "            print('No local exchange rate data available!')\n",
    "            return None\n",
    "    \n",
    "    "
   ]
  },
  {
   "cell_type": "code",
   "execution_count": 6,
   "id": "402e617a",
   "metadata": {},
   "outputs": [],
   "source": [
    "def transform(df,e_rate):\n",
    "    '''\n",
    "    The function transforms the dataframe 'df' by adding columns for Market Capitalization \n",
    "    in GBP, EUR and INR, rounded to 2 decimal places, \n",
    "    based on the exchange rate information 'e_rate'.\n",
    "    '''\n",
    "    \n",
    "    df['MC_USD_Billion'] = df['MC_USD_Billion'].astype(float) # casting 'MC_USD_Billion' column to float\n",
    "    #extracting 'GBP' exchange rate from 'e_rate' dataframe and casting it to float:\n",
    "    GBP=float(e_rate[e_rate['Currency']=='GBP']['Rate']) #using boolean indexing to extract 'GBP'\n",
    "    df['MC_GBP_Billion'] = np.round(df['MC_USD_Billion'] * GBP,2)\n",
    "    #extracting 'EUR' exchange rate from 'e_rate' dataframe and casting it to float:\n",
    "    EUR=float(e_rate[e_rate['Currency']=='EUR']['Rate']) #using boolean indexing to extract 'EUR'\n",
    "    df['MC_EUR_Billion'] = np.round(df['MC_USD_Billion'] * EUR,2)\n",
    "    #extracting 'INR' exchange rate from 'e_rate' dataframe and casting it to float:\n",
    "    INR = EUR=float(e_rate[e_rate['Currency']=='INR']['Rate']) #using boolean indexing to extract 'INR'\n",
    "    df['MC_INR_Billion'] = np.round(df['MC_USD_Billion'] * INR,2)\n",
    "    return df"
   ]
  },
  {
   "cell_type": "code",
   "execution_count": 7,
   "id": "c3675943",
   "metadata": {},
   "outputs": [],
   "source": [
    "def load_to_csv(df, csv_path):\n",
    "    df.to_csv(csv_path)"
   ]
  },
  {
   "cell_type": "code",
   "execution_count": 8,
   "id": "0ba0ce0a",
   "metadata": {},
   "outputs": [],
   "source": [
    "def load_to_db(df, sql_connection, table_name):\n",
    "    df.to_sql(table_name, sql_connection, if_exists='replace', index=False)"
   ]
  },
  {
   "cell_type": "code",
   "execution_count": 9,
   "id": "7ecae9aa",
   "metadata": {},
   "outputs": [],
   "source": [
    "def run_query(query_statement, sql_connection):\n",
    "    print(query_statement)\n",
    "    query_output = pd.read_sql(query_statement, sql_connection)\n",
    "    print(query_output)"
   ]
  },
  {
   "cell_type": "code",
   "execution_count": 16,
   "id": "c11766c9",
   "metadata": {},
   "outputs": [],
   "source": [
    "def log_progress(message): \n",
    "    timestamp_format = '%Y-%h-%d-%H:%M:%S' # Year-Monthname-Day-Hour-Minute-Second \n",
    "    now = datetime.now() # get current timestamp \n",
    "    timestamp = now.strftime(timestamp_format) \n",
    "    with open(\"./ETL World's Largest Banks log.txt\",\"a\") as f: \n",
    "        f.write(timestamp + ' : ' + message + '\\n')"
   ]
  },
  {
   "cell_type": "code",
   "execution_count": 19,
   "id": "d4910e77",
   "metadata": {},
   "outputs": [
    {
     "name": "stdout",
     "output_type": "stream",
     "text": [
      "\u001b[1mFirst Query:\n",
      "\u001b[0m\n",
      "SELECT AVG(MC_GBP_Billion) 'average market capitalization' FROM Largest_banks\n",
      "   average market capitalization\n",
      "0                        151.987\n",
      "\u001b[1m\n",
      "Second Query:\n",
      "\u001b[0m\n",
      "SELECT * FROM Largest_banks\n",
      "                                      Name  MC_USD_Billion  MC_GBP_Billion  \\\n",
      "0                           JPMorgan Chase          432.92          346.34   \n",
      "1                          Bank of America          231.52          185.22   \n",
      "2  Industrial and Commercial Bank of China          194.56          155.65   \n",
      "3               Agricultural Bank of China          160.68          128.54   \n",
      "4                                HDFC Bank          157.91          126.33   \n",
      "5                              Wells Fargo          155.87          124.70   \n",
      "6                        HSBC Holdings PLC          148.90          119.12   \n",
      "7                           Morgan Stanley          140.83          112.66   \n",
      "8                  China Construction Bank          139.82          111.86   \n",
      "9                            Bank of China          136.81          109.45   \n",
      "\n",
      "   MC_EUR_Billion  MC_INR_Billion  \n",
      "0          402.62        35910.71  \n",
      "1          215.31        19204.58  \n",
      "2          180.94        16138.75  \n",
      "3          149.43        13328.41  \n",
      "4          146.86        13098.63  \n",
      "5          144.96        12929.42  \n",
      "6          138.48        12351.26  \n",
      "7          130.97        11681.85  \n",
      "8          130.03        11598.07  \n",
      "9          127.23        11348.39  \n"
     ]
    }
   ],
   "source": [
    "''' Here, i define the required entities(variables) and call the relevant \n",
    "functions in the correct order to complete the project.'''\n",
    "\n",
    "db_name = 'Banks.db'\n",
    "table_name = 'Largest_banks'\n",
    "csv_path = './Largest_banks_output.csv'\n",
    "\n",
    "log_progress('Preliminaries complete. Initiating ETL process')\n",
    "df = extract()\n",
    "log_progress('Data extraction complete')\n",
    "log_progress('Fetching Exchange rate')\n",
    "e_rate = exchange_rate()\n",
    "log_progress('Exchange rate loaded. Initiating Transformation process')\n",
    "df = transform(df,e_rate)\n",
    "log_progress('Data transformation complete. Initiating loading process')\n",
    "load_to_csv(df, csv_path)\n",
    "log_progress('Data saved to CSV file')\n",
    "sql_connection = sqlite3.connect(db_name) #creating database and connection\n",
    "log_progress('SQL Connection initiated.')\n",
    "load_to_db(df, sql_connection, table_name)\n",
    "log_progress('Data loaded to Database as table. Running the queries')\n",
    "print(\"\\033[1m\" + 'First Query:\\n' + \"\\033[0m\") #making the text bold\n",
    "query_statement = f\"SELECT AVG(MC_GBP_Billion) 'average market capitalization' FROM {table_name}\"\n",
    "run_query(query_statement, sql_connection)\n",
    "print(\"\\033[1m\" + '\\nSecond Query:\\n' + \"\\033[0m\") #making the text bold\n",
    "query_statement = f\"SELECT * FROM {table_name}\"\n",
    "run_query(query_statement, sql_connection)\n",
    "log_progress('Process Complete.')\n",
    "sql_connection.close()"
   ]
  },
  {
   "cell_type": "code",
   "execution_count": null,
   "id": "e8b8205f",
   "metadata": {},
   "outputs": [],
   "source": []
  }
 ],
 "metadata": {
  "kernelspec": {
   "display_name": "Python 3 (ipykernel)",
   "language": "python",
   "name": "python3"
  },
  "language_info": {
   "codemirror_mode": {
    "name": "ipython",
    "version": 3
   },
   "file_extension": ".py",
   "mimetype": "text/x-python",
   "name": "python",
   "nbconvert_exporter": "python",
   "pygments_lexer": "ipython3",
   "version": "3.9.13"
  }
 },
 "nbformat": 4,
 "nbformat_minor": 5
}
