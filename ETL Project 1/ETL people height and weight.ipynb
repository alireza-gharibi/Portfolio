{
 "cells": [
  {
   "cell_type": "code",
   "execution_count": 2,
   "id": "1b5bbc22",
   "metadata": {},
   "outputs": [],
   "source": [
    "import glob \n",
    "import pandas as pd \n",
    "from bs4 import BeautifulSoup\n",
    "from datetime import datetime \n",
    "import os\n",
    "from itertools import chain\n"
   ]
  },
  {
   "cell_type": "code",
   "execution_count": 3,
   "id": "2e3e80db",
   "metadata": {},
   "outputs": [],
   "source": [
    "log_file = \"log_file.txt\" \n",
    "target_file = \"transformed_data.csv\" "
   ]
  },
  {
   "cell_type": "code",
   "execution_count": 4,
   "id": "d1534213",
   "metadata": {},
   "outputs": [],
   "source": [
    "def extract_from_csv(file_to_process): \n",
    "    dataframe = pd.read_csv(file_to_process) \n",
    "    return dataframe "
   ]
  },
  {
   "cell_type": "code",
   "execution_count": 5,
   "id": "595f01c0",
   "metadata": {},
   "outputs": [],
   "source": [
    "def extract_from_json(file_to_process): \n",
    "    dataframe = pd.read_json(file_to_process, lines=True) \n",
    "    return dataframe "
   ]
  },
  {
   "cell_type": "code",
   "execution_count": 6,
   "id": "77d85b0d",
   "metadata": {},
   "outputs": [],
   "source": [
    "def extract_from_xml(file_to_process):\n",
    "    with open(file_to_process) as fp:\n",
    "        soup = BeautifulSoup(fp,'xml') # create a beautifulsoup object from xml file\n",
    "        \n",
    "    persons_list = soup.find_all('person') # returns a list of all tag objects named 'person' in xml file\n",
    "    df=pd.DataFrame(columns=['name','height','weight']) \n",
    "    name=[]  \n",
    "    weight=[]\n",
    "    height=[]\n",
    "    \n",
    "    for person in persons_list: # iterate over each xml tag named 'person' \n",
    "        name.append(person.find('name').string) # since .name is a reserved system attribute for the soup objects we can't use person.name.string\n",
    "        weight.append(person.weight.string) # extract text from each weight tag and append it to a list\n",
    "        height.append(person.height.string) # extract text from each height tag and append it to a list\n",
    "        \n",
    "    df['name']=name #assign each list to its respective column in the dataframe\n",
    "    df['height']=height\n",
    "    df['weight']=weight\n",
    "    \n",
    "    return df\n",
    "        "
   ]
  },
  {
   "cell_type": "code",
   "execution_count": 7,
   "id": "fa5cf583",
   "metadata": {},
   "outputs": [],
   "source": [
    "def extract():\n",
    "    #extract csv file:\n",
    "    csv_files = glob.glob('source/*.csv') #pathname can be either absolute or \\\n",
    "    # relative (like ../../Tools/*/*.gif),\n",
    "    all_csv = map(extract_from_csv,csv_files)\n",
    "    \n",
    "    json_files = glob.glob('source/*.json')\n",
    "    all_json = map(extract_from_json,json_files)\n",
    "    \n",
    "    xml_files = glob.glob('source/*.xml')\n",
    "    all_xml= map(extract_from_xml,xml_files)\n",
    "    all_files= chain(all_csv,all_json,all_xml) # used itertools.chanin to combine map objects \\\n",
    "    # which are iterables. turn all into one big iterable. \n",
    "    return pd.concat(all_files,ignore_index=True) \n",
    "    \n",
    "    "
   ]
  },
  {
   "cell_type": "code",
   "execution_count": 8,
   "id": "ec2f0a14",
   "metadata": {},
   "outputs": [],
   "source": [
    "\n",
    "def transform(data): \n",
    "    '''Convert inches to meters and round off to two decimals \n",
    "    1 inch is 0.0254 meters. also we used broadcasting feature of dataframes '''\n",
    "    data['height'] = round(data['height'].astype(float) * 0.0254,2) #converted data['height'] from string to float\n",
    "    \n",
    "    '''Convert pounds to kilograms and round off to two decimals \n",
    "    1 pound is 0.45359237 kilograms '''\n",
    "    data['weight'] = round(data['weight'].astype(float) * 0.45359237,2) #converted data['weight'] from string to float\n",
    "    \n",
    "    return data "
   ]
  },
  {
   "cell_type": "code",
   "execution_count": 9,
   "id": "4ac20165",
   "metadata": {},
   "outputs": [],
   "source": [
    "def load_data(target_file, transformed_data): \n",
    "    transformed_data.to_csv(target_file) "
   ]
  },
  {
   "cell_type": "code",
   "execution_count": 10,
   "id": "a32aa594",
   "metadata": {},
   "outputs": [],
   "source": [
    "def log_progress(message): \n",
    "    timestamp_format = '%Y-%h-%d-%H:%M:%S' # Year-Monthname-Day-Hour-Minute-Second \n",
    "    now = datetime.now() # get current timestamp \n",
    "    timestamp = now.strftime(timestamp_format) #returns current time as a text\n",
    "    with open(log_file,\"a\") as f: \n",
    "        f.write(timestamp + ',' + message + '\\n') "
   ]
  },
  {
   "cell_type": "code",
   "execution_count": null,
   "id": "aa476c72",
   "metadata": {},
   "outputs": [],
   "source": []
  },
  {
   "cell_type": "code",
   "execution_count": 11,
   "id": "f930705f",
   "metadata": {},
   "outputs": [
    {
     "name": "stdout",
     "output_type": "stream",
     "text": [
      "Transformed Data\n",
      "     name  height  weight\n",
      "0    alex    1.67   51.25\n",
      "1    ajay    1.82   61.91\n",
      "2   alice    1.76   69.41\n",
      "3    ravi    1.73   64.56\n",
      "4     joe    1.72   65.45\n",
      "5    alex    1.67   51.25\n",
      "6    ajay    1.82   61.91\n",
      "7   alice    1.76   69.41\n",
      "8    ravi    1.73   64.56\n",
      "9     joe    1.72   65.45\n",
      "10   alex    1.67   51.25\n",
      "11   ajay    1.82   61.91\n",
      "12  alice    1.76   69.41\n",
      "13   ravi    1.73   64.56\n",
      "14    joe    1.72   65.45\n",
      "15   jack    1.74   55.93\n",
      "16    tom    1.77   64.18\n",
      "17  tracy    1.78   61.90\n",
      "18   john    1.72   50.97\n",
      "19   jack    1.74   55.93\n",
      "20    tom    1.77   64.18\n",
      "21  tracy    1.78   61.90\n",
      "22   john    1.72   50.97\n",
      "23   jack    1.74   55.93\n",
      "24    tom    1.77   64.18\n",
      "25  tracy    1.78   61.90\n",
      "26   john    1.72   50.97\n",
      "27  simon    1.72   50.97\n",
      "28  jacob    1.70   54.73\n",
      "29  cindy    1.69   57.81\n",
      "30   ivan    1.72   51.77\n",
      "31  simon    1.72   50.97\n",
      "32  jacob    1.70   54.73\n",
      "33  cindy    1.69   57.81\n",
      "34   ivan    1.72   51.77\n",
      "35  simon    1.72   50.97\n",
      "36  jacob    1.70   54.73\n",
      "37  cindy    1.69   57.81\n",
      "38   ivan    1.72   51.77\n"
     ]
    }
   ],
   "source": [
    "# Log the initialization of the ETL process \n",
    "log_progress(\"ETL Job Started\") \n",
    " \n",
    "# Log the beginning of the Extraction process \n",
    "log_progress(\"Extract phase Started\") \n",
    "extracted_data = extract() \n",
    " \n",
    "# Log the completion of the Extraction process \n",
    "log_progress(\"Extract phase Ended\") \n",
    " \n",
    "# Log the beginning of the Transformation process \n",
    "log_progress(\"Transform phase Started\") \n",
    "transformed_data = transform(extracted_data) \n",
    "print(\"Transformed Data\") \n",
    "print(transformed_data) \n",
    " \n",
    "# Log the completion of the Transformation process \n",
    "log_progress(\"Transform phase Ended\") \n",
    " \n",
    "# Log the beginning of the Loading process \n",
    "log_progress(\"Load phase Started\") \n",
    "load_data(target_file,transformed_data) \n",
    " \n",
    "# Log the completion of the Loading process \n",
    "log_progress(\"Load phase Ended\") \n",
    " \n",
    "# Log the completion of the ETL process \n",
    "log_progress(\"ETL Job Ended\") "
   ]
  },
  {
   "cell_type": "code",
   "execution_count": 12,
   "id": "e953961d",
   "metadata": {},
   "outputs": [],
   "source": []
  },
  {
   "cell_type": "code",
   "execution_count": null,
   "id": "06528327",
   "metadata": {},
   "outputs": [],
   "source": []
  },
  {
   "cell_type": "code",
   "execution_count": null,
   "id": "e6ec65e7",
   "metadata": {},
   "outputs": [],
   "source": []
  }
 ],
 "metadata": {
  "kernelspec": {
   "display_name": "Python 3 (ipykernel)",
   "language": "python",
   "name": "python3"
  },
  "language_info": {
   "codemirror_mode": {
    "name": "ipython",
    "version": 3
   },
   "file_extension": ".py",
   "mimetype": "text/x-python",
   "name": "python",
   "nbconvert_exporter": "python",
   "pygments_lexer": "ipython3",
   "version": "3.9.13"
  }
 },
 "nbformat": 4,
 "nbformat_minor": 5
}
